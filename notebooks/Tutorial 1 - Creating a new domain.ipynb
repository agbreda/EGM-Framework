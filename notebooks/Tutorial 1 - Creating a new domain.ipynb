{
 "cells": [
  {
   "cell_type": "markdown",
   "metadata": {},
   "source": [
    "# Tutorial 1: Creating the framework's input files\n",
    "The EGM framework require multiple input files. You should refer to the `Simulaciones-WorkFlow.docx` for a deep description of the hydrodynamic model input files.\n",
    "\n",
    "\n",
    "The framework also require some external files to apply some special features, but those will be explained here in this tutorial.\n",
    "\n",
    "\n",
    "## STEP 0: Load the egmlib library\n",
    "In the code below replace the string `lib_folder` with the path to folder where the **egmlib.py** file is and than run the cell. Just note that we should use `/` or `\\\\` instead of a single `\\` as Python understand this last as a indicator of a special character.\n",
    "\n",
    "\n",
    "The egmlib library already include the import of many other libraries, as **numpy** and **matplotlib** that will be used later in this notebook."
   ]
  },
  {
   "cell_type": "code",
   "execution_count": null,
   "metadata": {},
   "outputs": [],
   "source": [
    "lib_folder = 'C:/Wetlands/Tutorials'\n",
    "from sys import path\n",
    "path.append(lib_folder)\n",
    "from egmlib import *"
   ]
  },
  {
   "cell_type": "markdown",
   "metadata": {},
   "source": [
    "***\n",
    "Before we move on, this tutorial covers only some applications of the **EGMproject** class in the **egmlib** library. The attributes and methods of this class mimic some features found in *Simulaciones* software, when creating a new project. However, the main purpose of this class is to quickly create a rectangular domain with basic components, similarly to those used in the study of effect of structures in SE Australia coastal wetlands.\n",
    "***"
   ]
  },
  {
   "cell_type": "markdown",
   "metadata": {},
   "source": [
    "## STEP 1: Setting domain properties\n",
    "The models within the EGM framework strongly relly on cells and links characteristics to carry on their computations. Inside the **egmlib** library, we have a particular Python class called **EGMproject**, which reunite properties and methods/functions for creation of simple rectangular domains. In this first step, we will use many functions of this class to create a simulation domain with an inner channel, an embankment and a culvert.\n",
    "<br></br>\n",
    "### 1.1: Initial domain setup\n",
    "Define the number of rows and columns in the domain, create and initialise an **EGMproject** object, and then define the values for *x* and *y* coordinates, as well the dimensions *dx* and *dy* of each domain-cell.\n",
    "<br></br>\n",
    "We will also update the attribute *Mann*, which stores the Manning's roughness coefficient in each cell, to *n = 0.30* over the entire domain."
   ]
  },
  {
   "cell_type": "code",
   "execution_count": null,
   "metadata": {},
   "outputs": [],
   "source": [
    "# Creating a variable from EGMproject class\n",
    "dom = EGMproject()\n",
    "\n",
    "# Initialise its properties based on a given number of rows and columns\n",
    "dom.initialize_from_dimensions(nrows=21, ncols=82)\n",
    "\n",
    "#now 'dom' have some attributes. Let's see how many cells and links are on it\n",
    "print('Number of cells', dom.NoC)\n",
    "print('Number of links', dom.NoL)\n",
    "\n",
    "# Set dx = dy = 10 m to all cells in the domain. These attributes are arrays with (nrows,ncols) shape\n",
    "dom.dx[:,:] = 10.\n",
    "dom.dy[:,:] = 10.\n",
    "\n",
    "# Update the cells' center coordinates using the bottom-left corner of the bottom-left cell as the\n",
    "#system's origin (0,0).\n",
    "dom.set_coordinates()\n",
    "print('\\nLets check a sample of x and y matrices')\n",
    "display(dom.x)\n",
    "display(dom.y)\n",
    "\n",
    "# Update Manning's roughness coefficient to n = 0.30 at all cells\n",
    "dom.Mann[:,:] = 0.30"
   ]
  },
  {
   "cell_type": "markdown",
   "metadata": {},
   "source": [
    "### 1.2: Special Tiles\n",
    "The EGM Framework \"understands\" that some set of cells should be treated separately from the rest of the domain. Cells listed in these areas can be excluded before running the EGM models (Vegetation, Accretion and Hillslope Diffusion), so they will maintain their parameters through the entire simulation. <br></br> \n",
    "It is necessary to define at least one selection as \"TIDE\" or \"INPUT_CELLS\", because the Sediment Transport Model will set the sediment concentration in these areas as the same concentration provided by the sediment-input-series."
   ]
  },
  {
   "cell_type": "code",
   "execution_count": null,
   "metadata": {},
   "outputs": [],
   "source": [
    "# It will be easy to select the areas if we can see where the cells are in the domain.\n",
    "#For such, we will take advantage of pandas.DataFrame.to_html() function. But before we need to copy\n",
    "#the numbers matrix to a pandas DataFrame\n",
    "from IPython.display import HTML\n",
    "numdf = pd.DataFrame(dom.number, columns=dom.x[0,:], index=dom.y[:,0])\n",
    "display(HTML(numdf.to_html()))"
   ]
  },
  {
   "cell_type": "markdown",
   "metadata": {},
   "source": [
    "In this tutorial we will create two selections: \"TIDE\" and \"RIVER\", to indicate which cells are part of the tide-input area and which ones are part of an inner channel in the floodplain.\n",
    "<br></br>\n",
    "<br></br>\n",
    "To do so, we will use the EGMproject function **set_special_tiles(** *name*, *list_of_cells* **)** to create a new attribute that will store this information. Actually, this function can receive a third parameter, *mann*, to set the Manning's roughness coefficient in the special area. For now we will maintain its default value of 0.035. \n",
    "<br></br>\n",
    "<br></br>\n",
    "We will also review the coordinate system to change its origin to the bottom-left corner of the first floodplain column, i.e. the \"TIDE\" area will be in the negative x-sector. This will be very usefull later when plotting information from the floodplain only.\n",
    "<br></br>\n",
    "<br></br>\n",
    "Another change to be made is to make the \"RIVER\" area thinner by changing the *dy* attribute to 5 m."
   ]
  },
  {
   "cell_type": "code",
   "execution_count": null,
   "metadata": {},
   "outputs": [],
   "source": [
    "# The first special area will be the first two columns, which we will name as \"TIDE\".\n",
    "cells = dom.number[:,0:2]\n",
    "dom.set_special_tiles(\"TIDE\", cells)\n",
    "#we can access a new attribute now: dom.tiles[\"TIDE\"][\"cells\"], which will return an array with the cells' numbers\n",
    "#that should be treated as \"TIDE\" area\n",
    "\n",
    "# The second area is the bottom row, as we will change it to work like a channel-type cell (although for the\n",
    "#hydrodynamic model it will still be a land-type one)\n",
    "cells = dom.number[-1,2:]\n",
    "dom.set_special_tiles(\"RIVER\", cells)\n",
    "\n",
    "print('Special areas in the domain:')\n",
    "display(\"TIDE:\", dom.tiles[\"TIDE\"][\"cells\"])\n",
    "display(\"RIVER:\", dom.tiles[\"RIVER\"][\"cells\"])\n",
    "\n",
    "# Re-setting the coordinate system: 1) Change dy for RIVER-row; 2) set x-coordinates to start at -2*dx, as\n",
    "#we selected the first two columns as TIDE area\n",
    "dom.dy[-1,:] = 5.\n",
    "dom.set_coordinates(xWest=-20)\n",
    "\n",
    "# Print the cells' number table again\n",
    "numdf = pd.DataFrame(dom.number, columns=dom.x[0,:], index=dom.y[:,0])\n",
    "print(\"New coordinates' system:\")\n",
    "display(HTML(numdf.to_html()))"
   ]
  },
  {
   "cell_type": "markdown",
   "metadata": {},
   "source": [
    "## 1.3 Defining elevation\n",
    "When an instance of **EGMproject** is created, the bottom elevation matrix is initialised with all values set to 0 m.\n",
    "\n",
    "In this tutorial we will create a ramp in the x-direction with a slope of 0.001 m/m. Later, we will drop the elevation in the RIVER-row by 0.4 m"
   ]
  },
  {
   "cell_type": "code",
   "execution_count": null,
   "metadata": {},
   "outputs": [],
   "source": [
    "dom.z = dom.x * 0.001\n",
    "dom.z[dom.tiles[\"RIVER\"][\"mask\"]] -= 0.4    #not mentioned before, but when .set_special_tiles is called it also\n",
    "#includes a mask matrix to access that cells in the (nrows,ncols) matrices\n",
    "print('Elevation in floodplain downstream border:', dom.z[0,2])\n",
    "print('Elevation in floodplain upstream border:', dom.z[0,-1])"
   ]
  },
  {
   "cell_type": "markdown",
   "metadata": {},
   "source": [
    "## 1.4: Adding embankment\n",
    "Placing an embankment in the domain is the same of removing the links between those cells separated by such structure.\n",
    "\n",
    "\n",
    "The EGMproject class provide two ways to insert an embankment in the domain. In the first one it is necessary to create a list with pairs of cells' number where the embankment will cut the connection between them. The function **remove_links(** *list_of_pairs_of_cells* **)** is used to carry on this task. The second method invokes the function **place_embankment_at_x(** *x*, *selected_rows* **)** and/or **place_embankment_at_y(** *y*, *selected_cols* **)** to automatically search those pairs of cells in the surroundings of the given coordinate (*x* or *y*) in the given subspace (*selected_rows* or *selected_cols*) .\n",
    "\n",
    "\n",
    "In this tutorial, we will place an embankment in the middle of the floodplain, at x = 400 m, crossing the floodplain in the North-South direction. We need to mind to not include the bottom row, which will work as the inner channel."
   ]
  },
  {
   "cell_type": "code",
   "execution_count": null,
   "metadata": {},
   "outputs": [],
   "source": [
    "# To place an embankment at x=400 m, we need will use the function place_embankment_at_x(), passing as arguments\n",
    "#x=400 and a list of rows that have a dy value higher than 9.99 m, i.e. those rows which dy was not reduced to 5 m.\n",
    "non_river_rows = [i for i in range(dom.nrows) if dom.dy[i,0] > 9.99]\n",
    "pairs = dom.place_embankment_at_x(400, non_river_rows)\n",
    "print('Pairs of cells:')\n",
    "display(pairs)"
   ]
  },
  {
   "cell_type": "markdown",
   "metadata": {},
   "source": [
    "## 1.5 Adding culvert\n",
    "Adding a culvert is a simple operation. One needs to provide the number of the linked cells where the culvert will be installed, and its parameters as well.\n",
    "\n",
    "\n",
    "We will use the function **set_culvert()**, which needs to receive at least the following parameters:\n",
    "* *cell1* = cell's number of the first cell in the link\n",
    "* *cell2* = cell's number of the second cell in the link\n",
    "* *base_width* = 1st step culvert's width\n",
    "* *gate_opening* = heigh between the bottom elevation of the 1st step and the gate level\n",
    "\n",
    "\n",
    "All other culvert's parameters can be defined from the domain elevation at the linked cells, but the discharge coefficient, which default value is 0.8.\n",
    "\n",
    "\n",
    "Let's add a culvert aligned with embankment, but at the inner channel row."
   ]
  },
  {
   "cell_type": "code",
   "execution_count": null,
   "metadata": {},
   "outputs": [],
   "source": [
    "link = dom.set_culvert(cell1=1681, cell2=1682, base_width=0.8, gate_opening=0.5)\n",
    "print(\"Culvert's parameters:\")\n",
    "display(dom.params[link,:])"
   ]
  },
  {
   "cell_type": "markdown",
   "metadata": {},
   "source": [
    "## 1.6 Mapping domain\n",
    "This step is not really necessary to compose any of the input files. However, it is good to have a look if all changes made so far took place correctly.\n",
    "\n",
    "\n",
    "For such, we will use the function **map_domain()** which use the current information in the **EGMproject**'s variable to draw a colormap of the elevation, overlapped by a scatter plot of the position of cell's centres and links. The function returns a matplotlib.pyplot's figure and axis. Thus, one can add extra features to the composition before drawing the figure with a pyplot's savefig() or show() function."
   ]
  },
  {
   "cell_type": "code",
   "execution_count": null,
   "metadata": {},
   "outputs": [],
   "source": [
    "# Creating the base map of domain's terrain and cell/links location\n",
    "f, a = dom.map_domain()\n",
    "\n",
    "# Add the embankment as a thick black line\n",
    "a.plot([400., 400.], [205., 5.], 'k-', lw=3)\n",
    "pyplot.show()\n",
    "pyplot.close(f)"
   ]
  },
  {
   "cell_type": "markdown",
   "metadata": {},
   "source": [
    "## 1.7 Profiles for Hillslope Diffusion (HD) Model\n",
    "To apply the HD model in a EGM simulation using the current domain, it is necessary to provide the sequences of cells that define each hillslope profile to be smoothed by the HD model.\n",
    "\n",
    "\n",
    "For this current domain, we would like to apply the HD model throught the x and y axis. We could just take the sequences from each row and each column through the self.number matrix. However, we need to mind to not include cells in the special areas (TIDE and RIVER), and to stop the profile at the embankment.\n",
    "\n",
    "\n",
    "The good news is that the function **build_hillslope_profiles()** can sweep through the land-to-land links in the floodplain area to find these profiles for us automatically!\n",
    "\n",
    "\n",
    "**Attention please:** the function build_hillslope_profiles() returns only the list with sequence of cells. However, to create the file with this information it is also necessary to provide the distance between the cells on each profile. Here we will use the default value of 10 m. But if you will create a domain with different cell size, than you must address this when the hillslope_profile_write() function is called"
   ]
  },
  {
   "cell_type": "code",
   "execution_count": null,
   "metadata": {},
   "outputs": [],
   "source": [
    "# Finding horizontal and vertical continuos line\n",
    "dom.build_hillslope_profiles()\n",
    "\n",
    "xp, yp = dom.x.flatten(), dom.y.flatten()\n",
    "f, a = pyplot.subplots(figsize=(9,4), dpi=100, constrained_layout=True)\n",
    "for p in dom.profiles:\n",
    "    a.plot(xp[p], yp[p], 'k-', lw=1)\n",
    "a.plot(xp, yp, 'b.')\n",
    "a.set_ylabel('y [m]')\n",
    "a.set_xlabel('x [m]')\n",
    "pyplot.show()\n",
    "pyplot.close(f)"
   ]
  },
  {
   "cell_type": "markdown",
   "metadata": {},
   "source": [
    "# 2 Boundary Conditions\n",
    "So far we have worked with domain-related features. Now we need to mind the water input series that will force the hydrodynamic run. There are at least two more steps to run: set the input links, set the input series.\n",
    "\n",
    "\n",
    "# 2.1 Set Input Links\n",
    "Although we already defined an special set of cells as \"TIDE\" area, we need to list the pairs of linked cells where the water level will be defined by the input series. In our case here, we want to set all the pairs between column 0 and column 1 as boundary condition"
   ]
  },
  {
   "cell_type": "code",
   "execution_count": null,
   "metadata": {},
   "outputs": [],
   "source": [
    "# HxT boundary locations are composed by [first/inlet cell number, second/outlet cell number, status: 0=inactive;\n",
    "#1=active]. It must be converted to np.ndarray because of the boundary file writing function\n",
    "dom.bound_at = np.array([[dom.number[row,0], dom.number[row,1], 1] for row in range(dom.nrows)], dtype=int)\n",
    "display(dom.bound_at)"
   ]
  },
  {
   "cell_type": "markdown",
   "metadata": {},
   "source": [
    "## 2.2 Input Series\n",
    "To run the hydrodynamic model we need to provide an initial series of water *depths* on each boundary link. However, for the EGM simulation it is necessary water *levels* and sediment concentration for each EGM time step. Let's take care of each one separately.\n",
    "\n",
    "\n",
    "### 2.2.1 Initial water-depths series\n",
    "The series of water depths attached to each boundary-link must have the same time-length and time-step. We will first create a water *level* series using a sinusoidal formula with the following characteristics:\n",
    "* wave-length = 12 hours\n",
    "* tidal range = 1 m\n",
    "* mean level = 0 m\n",
    "* time-step = 300 s\n",
    "* series time-length = 48 hours\n",
    "\n",
    "This single water level series will supply the EGMproject function **set_boundary_depths()** which will use the terrain elevation at the first cell of each boundary-link to transform *level* in *depth*, thus creating a new attribute with the matrix of water depths on each boundary-link. This matrix will have a shape (*n*,*m*) where *n* is the number of records in the series and *m* the number of boundary-links\n",
    "\n",
    "\n",
    "One last thing. We need to manually create/update the attribute *bound_time_step* with the time step used to create this series."
   ]
  },
  {
   "cell_type": "code",
   "execution_count": null,
   "metadata": {},
   "outputs": [],
   "source": [
    "# Calling the sinusoidal wave creator function\n",
    "time_stamps, levels = sinusoid(amplitude=1.0, mean_level=0.0, wave_length=12*3600, time_step=300,\n",
    "                               final_time=48*3600)\n",
    "dom.bound_time_step = 300\n",
    "\n",
    "# Set water depths at boundary-links\n",
    "dom.set_boundary_depths(levels)\n",
    "pyplot.plot(time_stamps/3600, dom.bound_h[:,0], label='input depths')\n",
    "\n",
    "# Just to compare, let's plot the sinusoidal levels and the water depths at the first boundary-link\n",
    "pyplot.plot(time_stamps/3600, levels, label='levels')\n",
    "pyplot.xlabel('hour')\n",
    "pyplot.ylabel('metres')\n",
    "pyplot.legend()\n",
    "pyplot.grid()\n",
    "pyplot.show()"
   ]
  },
  {
   "cell_type": "markdown",
   "metadata": {},
   "source": [
    "### 2.2.2 EGM water-level series\n",
    "As in the EGM simulation we usually run the framework over a sequence of years, we must provide the equivalent water level series - to be used as input in a similar **set_boundary_depths()** function - for each year.\n",
    "\n",
    "Therefore we need to:\n",
    "1. Define a sequence of years to obtain the rise in the MSL from the RCPP 8.5 scenario\n",
    "2. Create a default/initial water level series which will be copied and updated with the sea-level-rise on each year\n",
    "3. Create a pandas.DataFrame to store all series, using the years as column names and the time stamp of each record as index."
   ]
  },
  {
   "cell_type": "code",
   "execution_count": null,
   "metadata": {},
   "outputs": [],
   "source": [
    "# Years for the EGM simulation\n",
    "years = np.arange(2000, 2101, 20)    #Every 20 years between 2000 and 2100\n",
    "\n",
    "# Accumulated SLR for each year\n",
    "slr = SLR(years)\n",
    "\n",
    "# Base sinusoidal wave (longer than previous one set for the initial boundary condition)\n",
    "time_stamps, levels = sinusoid(amplitude=1.0, final_time=4*86400)\n",
    "\n",
    "# Matrix of water levels on each year, added the SLR\n",
    "wl = np.transpose(np.tile(levels, (slr.size,1)))\n",
    "wl = np.add(wl, slr)\n",
    "inp_levels = pd.DataFrame(wl, columns=years, index=time_stamps)"
   ]
  },
  {
   "cell_type": "markdown",
   "metadata": {},
   "source": [
    "### 2.2.3 EGM sediment concentration series\n",
    "For each record in the EGM water level series, there must be a record of sediment concentration (g/m3). Here we will create flat series with the same value at all time and years."
   ]
  },
  {
   "cell_type": "code",
   "execution_count": null,
   "metadata": {},
   "outputs": [],
   "source": [
    "# Create a copy of EGM water level input series to use the same column and index names\n",
    "ssc = inp_levels.copy()\n",
    "ssc.iloc[:,:] = 40    # Replace all data by a constant value of 40 g/m3\n",
    "\n",
    "# Plot EGM inputs\n",
    "inp_levels.plot()\n",
    "ssc.plot()"
   ]
  },
  {
   "cell_type": "markdown",
   "metadata": {},
   "source": [
    "## 2.3 Run-time settings and initial condition\n",
    "Originally the hydrodynamic simulation splits the simulation period into 4 intervals. Thus, each one has its own solution’s time-step and its final time.\n",
    "\n",
    "To finish the EGM project we need to defined the following run-time parameters:\n",
    "* hydrodynamic solution time step (usually 1s) for each interval\n",
    "* interval's final time (usually low values for the first 3 intervals, and the last with the full-simulation final time)\n",
    "* time step of output series (in seconds)\n",
    "* matrix of initial depths"
   ]
  },
  {
   "cell_type": "code",
   "execution_count": null,
   "metadata": {},
   "outputs": [],
   "source": [
    "# time-step used in the solution of hydrodynamic model\n",
    "dom.solution_time_step = [1, 1, 1, 1]\n",
    "\n",
    "# final time of the hydrodynamic/sediment transport simulation. Computed based on boundary depths series length\n",
    "dom.hydrodynamic_final_time = [60, 120, 180, dom.bound_time_step * (dom.bound_h.shape[0] - 1)]\n",
    "\n",
    "# time-step used to record outputs of hydrodynamic model (also used to solve the sediment transport model)\n",
    "dom.output_time_step = 300\n",
    "\n",
    "# The initial depth will be calculated assuming that the water LEVEL at t = 0 is the same in all domain. So, those\n",
    "#cells under this level will have some water depth, and those above will be dry. We can define this level at t = 0\n",
    "#manually, or using the first value in the array 'levels' returned by the sinusoid function, or recomputing it from\n",
    "#the first record of the depth series at the first boundary link. This last one may sounds more complex, but it is\n",
    "#the best option to maintain consistence between the boundary and initial depth series\n",
    "lev0 = dom.bound_h[0,0] + dom.z.flatten()[dom.bound_at[0][0]] #water level = water depth + bottom elevation\n",
    "print('Initial water level =', lev0)\n",
    "\n",
    "# creating attribute initial_depth\n",
    "dom.set_initial_depths(lev0)"
   ]
  },
  {
   "cell_type": "markdown",
   "metadata": {},
   "source": [
    "# Step 3: Saving information to files\n",
    "Time to dump all domain, boundary condition, initial condition and input series information in the files expected by the HST and EGM simulations! For such, create a folder named **domain01** where you will place all tutorials file.\n",
    "\n",
    "\n",
    "Most of this task is carried on by the EGMproject's function **finalize(** *folder_name* **)**, where *folder_name* is the path where the files will be saved. However, the EGM input series stored in pandas.DataFrame need to be saved separately with the embed DataFrame function **to_csv(** *csv_file* **)**"
   ]
  },
  {
   "cell_type": "code",
   "execution_count": null,
   "metadata": {},
   "outputs": [],
   "source": [
    "save_to_folder = 'C:/Wetlands/Tutorials/domain01'\n",
    "dom.finalize(save_to_folder)\n",
    "\n",
    "inp_levels.to_csv('C:/Wetlands/Tutorials/water_levels_1.csv')\n",
    "ssc.to_csv('C:/Wetlands/Tutorials/sediment_conc_1.csv')"
   ]
  },
  {
   "cell_type": "markdown",
   "metadata": {},
   "source": [
    "# THE END\n",
    "All files are ready. However, remember that the hydrodynamic model requires other \\*.dat files, which we don't need to change at all. You can just copy them from the *Common Files* folder.\n",
    "\n",
    "\n",
    "Another example of domain creation can be found in the `example_domain2` notebook"
   ]
  },
  {
   "cell_type": "code",
   "execution_count": null,
   "metadata": {},
   "outputs": [],
   "source": []
  }
 ],
 "metadata": {
  "kernelspec": {
   "display_name": "Python 3",
   "language": "python",
   "name": "python3"
  },
  "language_info": {
   "codemirror_mode": {
    "name": "ipython",
    "version": 3
   },
   "file_extension": ".py",
   "mimetype": "text/x-python",
   "name": "python",
   "nbconvert_exporter": "python",
   "pygments_lexer": "ipython3",
   "version": "3.7.4"
  }
 },
 "nbformat": 4,
 "nbformat_minor": 2
}
