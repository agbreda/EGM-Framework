{
 "cells": [
  {
   "cell_type": "markdown",
   "metadata": {},
   "source": [
    "# A single-row domain\n",
    "For some applications of the EGM Framework, a single-row domain is the most efficient setup. The code in this notebook will create a 1000 m long domain using 10x10 cells. I recommend to save the files generated here within the Tutorial's directory in folder called **domain02**"
   ]
  },
  {
   "cell_type": "code",
   "execution_count": null,
   "metadata": {},
   "outputs": [],
   "source": [
    "lib_folder = 'C:/Wetlands/Tutorials'        # replace lib_folder with the path to the directory where you\n",
    "from sys import path                        #have the egmlib.py file\n",
    "path.append(lib_folder)\n",
    "from egmlib import *\n",
    "from IPython.display import HTML"
   ]
  },
  {
   "cell_type": "markdown",
   "metadata": {},
   "source": [
    "# 1 Setting up the domain properties and special tiles area"
   ]
  },
  {
   "cell_type": "code",
   "execution_count": null,
   "metadata": {},
   "outputs": [],
   "source": [
    "# Creating a variable from EGMproject class\n",
    "dom = EGMproject()\n",
    "\n",
    "# Initialise its properties based on a given number of rows and columns\n",
    "dom.initialize_from_dimensions(nrows=1, ncols=102)\n",
    "print('Number of cells', dom.NoC)\n",
    "print('Number of links', dom.NoL)\n",
    "\n",
    "# Set dx = dy = 10 m to all cells in the domain. These attributes are arrays with (nrows,ncols) shape\n",
    "dom.dx[:,:] = 10.\n",
    "dom.dy[:,:] = 10.\n",
    "\n",
    "# Select the first two columns as \"INPUT_CELLS\" area\n",
    "dom.set_special_tiles(\"INPUT_CELLS\", dom.number[:,0:2])\n",
    "print('Special areas in the domain:')\n",
    "display(\"INPUT_CELLS:\", dom.tiles[\"INPUT_CELLS\"][\"cells\"])\n",
    "\n",
    "# Re-setting the coordinate system: set x-coordinates to start at -2*dx, as we selected the first two\n",
    "#columns as INPUT_CELLS area\n",
    "dom.set_coordinates(xWest=-20)\n",
    "\n",
    "# Print the cells' number table\n",
    "numdf = pd.DataFrame(dom.number, columns=dom.x[0,:], index=dom.y[:,0])\n",
    "print(\"Coordinates' system:\")\n",
    "display(HTML(numdf.to_html()))\n",
    "\n",
    "# Update Manning's roughness coefficient to n = 0.30 at all cells\n",
    "dom.Mann[:,:] = 0.30\n",
    "dom.Mann[dom.tiles[\"INPUT_CELLS\"][\"mask\"]] = dom.tiles[\"INPUT_CELLS\"][\"roughness\"]\n",
    "\n",
    "# Bottom elevation\n",
    "dom.z = dom.x * 0.001\n",
    "\n",
    "# Creating the base map of domain's terrain and cell/links location\n",
    "f, a = dom.map_domain(fs=(10,2))\n",
    "pyplot.show()\n",
    "pyplot.close(f)"
   ]
  },
  {
   "cell_type": "markdown",
   "metadata": {},
   "source": [
    "# 2 Hillslope Diffusion profiles"
   ]
  },
  {
   "cell_type": "code",
   "execution_count": null,
   "metadata": {},
   "outputs": [],
   "source": [
    "# Finding horizontal and vertical continuos line\n",
    "dom.build_hillslope_profiles()\n",
    "\n",
    "xp, yp = dom.x.flatten(), dom.y.flatten()\n",
    "f, a = pyplot.subplots(figsize=(10,2), dpi=100, constrained_layout=True)\n",
    "for p in dom.profiles:\n",
    "    a.plot(xp[p], yp[p], 'k-', lw=1)\n",
    "a.plot(xp, yp, 'b.')\n",
    "a.set_ylabel('y [m]')\n",
    "a.set_xlabel('x [m]')\n",
    "pyplot.show()\n",
    "pyplot.close(f)"
   ]
  },
  {
   "cell_type": "markdown",
   "metadata": {},
   "source": [
    "# 3 Boundary Conditions\n",
    "1. Set Input Links\n",
    "2. Input Series\n",
    "3. Run-time settings and initial condition"
   ]
  },
  {
   "cell_type": "code",
   "execution_count": null,
   "metadata": {},
   "outputs": [],
   "source": [
    "# HxT boundary locations are composed by [first/inlet cell number, second/outlet cell number, status: 0=inactive;\n",
    "#1=active]. It must be converted to np.ndarray because of the boundary file writing function\n",
    "dom.bound_at = np.array([[dom.number[row,0], dom.number[row,1], 1] for row in range(dom.nrows)], dtype=int)\n",
    "display(dom.bound_at)"
   ]
  },
  {
   "cell_type": "code",
   "execution_count": null,
   "metadata": {},
   "outputs": [],
   "source": [
    "#Calling the sinusoidal wave creator function\n",
    "time_stamps, levels = sinusoid(amplitude=1.0, mean_level=0.0, wave_length=12*3600, time_step=300,\n",
    "                               final_time=24*3600)\n",
    "dom.bound_time_step = 300\n",
    "\n",
    "# Set water depths at boundary-links\n",
    "dom.set_boundary_depths(levels)\n",
    "pyplot.plot(time_stamps/3600, dom.bound_h[:,0], label='input depths')\n",
    "\n",
    "# Just to compare, let's plot the sinusoidal levels and the water depths at the first boundary-link\n",
    "pyplot.plot(time_stamps/3600, levels, label='levels')\n",
    "pyplot.xlabel('hour')\n",
    "pyplot.ylabel('metres')\n",
    "pyplot.legend()\n",
    "pyplot.grid()\n",
    "pyplot.show()"
   ]
  },
  {
   "cell_type": "markdown",
   "metadata": {},
   "source": [
    "## EGM water-level series\n",
    "Differently from `Tutorial 1`, where we created water level series for a set of years by increasing the mean sea level, here I will create series with different tide amplitudes. This will be useful in `Tutorial 3` to investigate the parameters of the Sediment Transport Model (STM)."
   ]
  },
  {
   "cell_type": "code",
   "execution_count": null,
   "metadata": {},
   "outputs": [],
   "source": [
    "# Similar sinusoidal wave with higher amplitude\n",
    "_, levels2 = sinusoid(amplitude=1.5, final_time=86400)\n",
    "_, levels3 = sinusoid(amplitude=2.0, final_time=86400)\n",
    "\n",
    "# Matrix of water levels \n",
    "wl = np.vstack((levels, levels2, levels3))\n",
    "wl = np.transpose(wl)\n",
    "inp_levels = pd.DataFrame(wl, columns=['1 m', '1.5 m', '2 m'], index=time_stamps)\n",
    "# display(inp_levels)\n",
    "\n",
    "# Create a copy of EGM water level input series to use the same column and index names\n",
    "ssc = inp_levels.copy()\n",
    "ssc.iloc[:,:] = 37    # Replace all data by a constant value of 37 g/m3\n",
    "\n",
    "# Plot EGM inputs\n",
    "inp_levels.plot()\n",
    "ssc.plot()"
   ]
  },
  {
   "cell_type": "code",
   "execution_count": null,
   "metadata": {},
   "outputs": [],
   "source": [
    "# time-step used in the solution of hydrodynamic model\n",
    "dom.solution_time_step = [1, 1, 1, 1]\n",
    "\n",
    "# final time of the hydrodynamic/sediment transport simulation. Computed based on boundary depths series length\n",
    "dom.hydrodynamic_final_time = [60, 120, 180, dom.bound_time_step * (dom.bound_h.shape[0] - 1)]\n",
    "\n",
    "# time-step used to record outputs of hydrodynamic model (also used to solve the sediment transport model)\n",
    "dom.output_time_step = 300\n",
    "\n",
    "# creating attribute initial_depth\n",
    "dom.set_initial_depths(0.0)"
   ]
  },
  {
   "cell_type": "markdown",
   "metadata": {},
   "source": [
    "# 4 Dump information into files"
   ]
  },
  {
   "cell_type": "code",
   "execution_count": null,
   "metadata": {},
   "outputs": [],
   "source": [
    "save_to_folder = 'C:/Wetlands/Tutorials/domain02'\n",
    "dom.finalize(save_to_folder)\n",
    "\n",
    "inp_levels.to_csv('C:/Wetlands/Tutorials/water_levels_2.csv')\n",
    "ssc.to_csv('C:/Wetlands/Tutorials/sediment_conc_2.csv')"
   ]
  },
  {
   "cell_type": "code",
   "execution_count": null,
   "metadata": {},
   "outputs": [],
   "source": []
  }
 ],
 "metadata": {
  "kernelspec": {
   "display_name": "Python 3",
   "language": "python",
   "name": "python3"
  },
  "language_info": {
   "codemirror_mode": {
    "name": "ipython",
    "version": 3
   },
   "file_extension": ".py",
   "mimetype": "text/x-python",
   "name": "python",
   "nbconvert_exporter": "python",
   "pygments_lexer": "ipython3",
   "version": "3.7.4"
  }
 },
 "nbformat": 4,
 "nbformat_minor": 2
}
